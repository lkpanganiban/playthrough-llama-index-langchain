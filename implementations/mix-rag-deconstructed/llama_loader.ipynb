{
 "cells": [
  {
   "cell_type": "code",
   "execution_count": 1,
   "metadata": {},
   "outputs": [
    {
     "name": "stderr",
     "output_type": "stream",
     "text": [
      "/Users/lkp/miniforge3/envs/llama/lib/python3.9/site-packages/tqdm/auto.py:21: TqdmWarning: IProgress not found. Please update jupyter and ipywidgets. See https://ipywidgets.readthedocs.io/en/stable/user_install.html\n",
      "  from .autonotebook import tqdm as notebook_tqdm\n"
     ]
    }
   ],
   "source": [
    "import numpy as np\n",
    "import datetime\n",
    "from opensearchpy import helpers\n",
    "from sentence_transformers import SentenceTransformer\n",
    "from opensearchpy import OpenSearch, RequestsHttpConnection"
   ]
  },
  {
   "cell_type": "code",
   "execution_count": 2,
   "metadata": {},
   "outputs": [],
   "source": [
    "SERVER_URL = \"http://localhost:9200\"\n",
    "INDEX_NAME = \"llama-mix-index\"\n",
    "model = SentenceTransformer('sentence-transformers/all-mpnet-base-v2') \n"
   ]
  },
  {
   "cell_type": "code",
   "execution_count": 3,
   "metadata": {},
   "outputs": [],
   "source": [
    "\n",
    "def normalize_data(data):\n",
    "    return data / np.linalg.norm(data, ord=2)"
   ]
  },
  {
   "cell_type": "code",
   "execution_count": 33,
   "metadata": {},
   "outputs": [],
   "source": [
    "def store_index(index_name: str, data: np.array, metadata: list, os_client: OpenSearch): \n",
    "    documents = [] \n",
    "    for index_num, vector in enumerate(data): \n",
    "        metadata_line = metadata[index_num] \n",
    "        text_field = metadata_line[\"text\"] \n",
    "        embedding = model.encode(text_field) \n",
    "        norm_text_vector_np = normalize_data(embedding) \n",
    "        document = { \n",
    "            \"_index\": index_name, \n",
    "            \"_id\": index_num, \n",
    "            \"description_vector\": norm_text_vector_np.tolist(), \n",
    "            \"text_field\": text_field \n",
    "        } \n",
    "        documents.append(document) \n",
    "    helpers.bulk(os_client, documents, request_timeout=1800) \n",
    "    documents = [] \n",
    "    print(f\"bulk {index_num} indexed successfully\") \n",
    "    os_client.indices.refresh(INDEX_NAME) \n",
    " \n",
    "    os_client.indices.refresh(INDEX_NAME) "
   ]
  },
  {
   "cell_type": "code",
   "execution_count": 14,
   "metadata": {},
   "outputs": [],
   "source": [
    "def get_vector_dimension(metadata: list):\n",
    "    text = metadata[0][\"text\"]\n",
    "    embeddings = model.encode(text)\n",
    "    return len(embeddings)"
   ]
  },
  {
   "cell_type": "code",
   "execution_count": 7,
   "metadata": {},
   "outputs": [],
   "source": [
    "def create_index(index_name: str, os_client: OpenSearch, metadata: np):\n",
    "    mapping = {\n",
    "        \"mappings\": {\n",
    "            \"properties\": {\n",
    "                \"description_vector\": {\n",
    "                    \"type\": \"knn_vector\",\n",
    "                    \"dimension\": get_vector_dimension(metadata),\n",
    "                },\n",
    "                \"text_field\": {\n",
    "                    \"type\": \"text\",\n",
    "                    \"analyzer\": \"standard\",\n",
    "                }\n",
    "            }\n",
    "        },\n",
    "        \"settings\": {\n",
    "            \"index\": {\n",
    "                \"number_of_shards\": \"1\",\n",
    "                \"knn\": \"false\",\n",
    "                \"number_of_replicas\": \"0\"\n",
    "            }\n",
    "        }\n",
    "\n",
    "    }\n",
    "    os_client.indices.create(index=index_name, body=mapping)"
   ]
  },
  {
   "cell_type": "code",
   "execution_count": 8,
   "metadata": {},
   "outputs": [],
   "source": [
    "def delete_index(index_name: str, os_client: OpenSearch):\n",
    "    os_client.indices.delete(index_name)"
   ]
  },
  {
   "cell_type": "code",
   "execution_count": 9,
   "metadata": {},
   "outputs": [],
   "source": [
    "def get_client(server_url: str) -> OpenSearch:\n",
    "    os_client_instance = OpenSearch(SERVER_URL, use_ssl=False, verify_certs=False,\n",
    "                                    connection_class=RequestsHttpConnection)\n",
    "    print(\"OS connected\")\n",
    "    print(datetime.datetime.now())\n",
    "    return os_client_instance"
   ]
  },
  {
   "cell_type": "code",
   "execution_count": 26,
   "metadata": {},
   "outputs": [],
   "source": [
    "def load_file(file_path):\n",
    "    try:\n",
    "        data_objects = []\n",
    "        with open(file_path, \"r\") as data_file:\n",
    "            for line in data_file:\n",
    "                line = line.strip()\n",
    "                if line != \"\":\n",
    "                    data_objects.append({\"text\": line})\n",
    "        print(\"Done\")\n",
    "    finally:\n",
    "        pass\n",
    "    return data_objects\n"
   ]
  },
  {
   "cell_type": "code",
   "execution_count": 34,
   "metadata": {},
   "outputs": [
    {
     "name": "stdout",
     "output_type": "stream",
     "text": [
      "OS connected\n",
      "2023-09-26 13:06:29.418495\n"
     ]
    }
   ],
   "source": [
    "os_client = get_client(SERVER_URL)\n",
    "delete_index(INDEX_NAME, os_client)"
   ]
  },
  {
   "cell_type": "code",
   "execution_count": 35,
   "metadata": {},
   "outputs": [
    {
     "name": "stdout",
     "output_type": "stream",
     "text": [
      "Done\n",
      "bulk 170 indexed successfully\n"
     ]
    }
   ],
   "source": [
    "DATA_PATH = \"data-bak/paul_graham_essay.txt\"\n",
    "metadata = load_file(DATA_PATH)\n",
    "# print(metadata)\n",
    "res = create_index(INDEX_NAME, os_client, metadata)\n",
    "# print(res)\n",
    "store_index(INDEX_NAME, metadata, metadata, os_client)"
   ]
  }
 ],
 "metadata": {
  "kernelspec": {
   "display_name": "llama",
   "language": "python",
   "name": "python3"
  },
  "language_info": {
   "codemirror_mode": {
    "name": "ipython",
    "version": 3
   },
   "file_extension": ".py",
   "mimetype": "text/x-python",
   "name": "python",
   "nbconvert_exporter": "python",
   "pygments_lexer": "ipython3",
   "version": "3.9.16"
  },
  "orig_nbformat": 4
 },
 "nbformat": 4,
 "nbformat_minor": 2
}
